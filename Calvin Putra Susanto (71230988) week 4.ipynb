{
 "cells": [
  {
   "cell_type": "code",
   "execution_count": 1,
   "id": "7db8aec4",
   "metadata": {},
   "outputs": [
    {
     "name": "stdout",
     "output_type": "stream",
     "text": [
      "True\n",
      "False\n"
     ]
    }
   ],
   "source": [
    "def cek_angka(a, b, c):\n",
    "    a != b != c\n",
    "    if a + b == c:\n",
    "        print(\"True\")\n",
    "    elif a + c == b :\n",
    "        print(\"True\")\n",
    "    elif b + c == a :\n",
    "        print(\"True\")\n",
    "    else:\n",
    "        print(\"False\")\n",
    "cek_angka(10, 20, 30)\n",
    "cek_angka(2, 4, 5)"
   ]
  },
  {
   "cell_type": "code",
   "execution_count": 2,
   "id": "68f74c61",
   "metadata": {},
   "outputs": [
    {
     "name": "stdout",
     "output_type": "stream",
     "text": [
      "Masukkan bilangan a :20\n",
      "Masukkan bilangan b :30\n",
      "Masukkan bilangan c :18\n",
      "True\n"
     ]
    }
   ],
   "source": [
    "def cek_digit_belakang(a, b, c):\n",
    "    \n",
    "    if a % 10 == b % 10 == c % 10:\n",
    "        return (\"True\")\n",
    "    elif a % 10 == b % 10 or a % 10 == c % 10 or b % 10 == c % 10:\n",
    "        return (\"True\")\n",
    "    else:\n",
    "        return (\"False\")\n",
    "\n",
    "a = int(input(\"Masukkan bilangan a :\"))\n",
    "b = int(input(\"Masukkan bilangan b :\"))\n",
    "c = int(input(\"Masukkan bilangan c :\"))\n",
    "\n",
    "print(cek_digit_belakang(a, b, c))"
   ]
  },
  {
   "cell_type": "code",
   "execution_count": 3,
   "id": "9018db13",
   "metadata": {},
   "outputs": [
    {
     "name": "stdout",
     "output_type": "stream",
     "text": [
      "Masukkan bilangan a :123\n",
      "F = 253 \n",
      "R =  98\n"
     ]
    }
   ],
   "source": [
    "a = int(input(\"Masukkan bilangan a :\"))\n",
    "\n",
    "Celcius_to_Fahrenheit = lambda a: (9/5)* a + 32\n",
    "Celcius_to_Reamur = lambda a: 0.8 * a\n",
    "\n",
    "hasil_fahrenheit = Celcius_to_Fahrenheit(a)\n",
    "hasil_reamur = Celcius_to_Reamur(a)\n",
    "\n",
    "print(\"F =\",round( hasil_fahrenheit) , \"\\nR = \", round(hasil_reamur))"
   ]
  },
  {
   "cell_type": "code",
   "execution_count": null,
   "id": "168e5c15",
   "metadata": {},
   "outputs": [],
   "source": []
  }
 ],
 "metadata": {
  "kernelspec": {
   "display_name": "Python 3 (ipykernel)",
   "language": "python",
   "name": "python3"
  },
  "language_info": {
   "codemirror_mode": {
    "name": "ipython",
    "version": 3
   },
   "file_extension": ".py",
   "mimetype": "text/x-python",
   "name": "python",
   "nbconvert_exporter": "python",
   "pygments_lexer": "ipython3",
   "version": "3.11.5"
  }
 },
 "nbformat": 4,
 "nbformat_minor": 5
}
